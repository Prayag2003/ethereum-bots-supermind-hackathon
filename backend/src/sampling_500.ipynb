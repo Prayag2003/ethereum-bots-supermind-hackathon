{
 "cells": [
  {
   "cell_type": "code",
   "execution_count": 10,
   "metadata": {},
   "outputs": [],
   "source": [
    "import pandas as pd"
   ]
  },
  {
   "cell_type": "code",
   "execution_count": 11,
   "metadata": {},
   "outputs": [],
   "source": [
    "df=pd.read_csv(\"/home/aniketsuthar/Documents/PROJECTS/Astra_DB/docs/social_media_engagement_data_sorted.csv\")"
   ]
  },
  {
   "cell_type": "code",
   "execution_count": 12,
   "metadata": {},
   "outputs": [
    {
     "data": {
      "text/html": [
       "<div>\n",
       "<style scoped>\n",
       "    .dataframe tbody tr th:only-of-type {\n",
       "        vertical-align: middle;\n",
       "    }\n",
       "\n",
       "    .dataframe tbody tr th {\n",
       "        vertical-align: top;\n",
       "    }\n",
       "\n",
       "    .dataframe thead th {\n",
       "        text-align: right;\n",
       "    }\n",
       "</style>\n",
       "<table border=\"1\" class=\"dataframe\">\n",
       "  <thead>\n",
       "    <tr style=\"text-align: right;\">\n",
       "      <th></th>\n",
       "      <th>Platform</th>\n",
       "      <th>Post_ID</th>\n",
       "      <th>Post_Type</th>\n",
       "      <th>Post_Content</th>\n",
       "      <th>Post_Timestamp</th>\n",
       "      <th>Likes</th>\n",
       "      <th>Comments</th>\n",
       "      <th>Shares</th>\n",
       "      <th>Impressions</th>\n",
       "      <th>Reach</th>\n",
       "      <th>Engagement Rate</th>\n",
       "      <th>Date</th>\n",
       "      <th>Time of Day</th>\n",
       "    </tr>\n",
       "  </thead>\n",
       "  <tbody>\n",
       "    <tr>\n",
       "      <th>0</th>\n",
       "      <td>Facebook</td>\n",
       "      <td>027c4df2-e0c8-4728-87f1-efd60fc85d23</td>\n",
       "      <td>Video</td>\n",
       "      <td>Wonder value over drop position position admit.</td>\n",
       "      <td>2021-03-08 19:13:37</td>\n",
       "      <td>578</td>\n",
       "      <td>360</td>\n",
       "      <td>90</td>\n",
       "      <td>6060</td>\n",
       "      <td>3725</td>\n",
       "      <td>27.60</td>\n",
       "      <td>2021-03-08</td>\n",
       "      <td>Evening</td>\n",
       "    </tr>\n",
       "    <tr>\n",
       "      <th>1</th>\n",
       "      <td>Facebook</td>\n",
       "      <td>4cb0df96-7974-4c5c-b7b6-8bf050b85623</td>\n",
       "      <td>Video</td>\n",
       "      <td>Pay young poor talk.</td>\n",
       "      <td>2021-03-08 19:18:21</td>\n",
       "      <td>596</td>\n",
       "      <td>490</td>\n",
       "      <td>52</td>\n",
       "      <td>2499</td>\n",
       "      <td>4229</td>\n",
       "      <td>26.91</td>\n",
       "      <td>2021-03-08</td>\n",
       "      <td>Evening</td>\n",
       "    </tr>\n",
       "    <tr>\n",
       "      <th>2</th>\n",
       "      <td>Twitter</td>\n",
       "      <td>34f4b2a8-5616-440e-a2ce-0ef3bf445196</td>\n",
       "      <td>Video</td>\n",
       "      <td>Hope decide education much.</td>\n",
       "      <td>2021-03-08 20:43:27</td>\n",
       "      <td>878</td>\n",
       "      <td>359</td>\n",
       "      <td>87</td>\n",
       "      <td>4272</td>\n",
       "      <td>3368</td>\n",
       "      <td>39.31</td>\n",
       "      <td>2021-03-08</td>\n",
       "      <td>Evening</td>\n",
       "    </tr>\n",
       "    <tr>\n",
       "      <th>3</th>\n",
       "      <td>Facebook</td>\n",
       "      <td>51c6187d-ff6e-44dd-a179-a6e72156f8b5</td>\n",
       "      <td>Video</td>\n",
       "      <td>Shake question remember now.</td>\n",
       "      <td>2021-03-08 21:15:48</td>\n",
       "      <td>766</td>\n",
       "      <td>371</td>\n",
       "      <td>46</td>\n",
       "      <td>5247</td>\n",
       "      <td>2477</td>\n",
       "      <td>47.76</td>\n",
       "      <td>2021-03-08</td>\n",
       "      <td>Night</td>\n",
       "    </tr>\n",
       "    <tr>\n",
       "      <th>4</th>\n",
       "      <td>Instagram</td>\n",
       "      <td>ef618191-8f9b-48b4-a483-0fb69c82f002</td>\n",
       "      <td>Video</td>\n",
       "      <td>Blood market spend design claim form claim fin...</td>\n",
       "      <td>2021-03-08 22:16:45</td>\n",
       "      <td>332</td>\n",
       "      <td>189</td>\n",
       "      <td>83</td>\n",
       "      <td>7922</td>\n",
       "      <td>3560</td>\n",
       "      <td>16.97</td>\n",
       "      <td>2021-03-08</td>\n",
       "      <td>Night</td>\n",
       "    </tr>\n",
       "  </tbody>\n",
       "</table>\n",
       "</div>"
      ],
      "text/plain": [
       "    Platform                               Post_ID Post_Type  \\\n",
       "0   Facebook  027c4df2-e0c8-4728-87f1-efd60fc85d23     Video   \n",
       "1   Facebook  4cb0df96-7974-4c5c-b7b6-8bf050b85623     Video   \n",
       "2    Twitter  34f4b2a8-5616-440e-a2ce-0ef3bf445196     Video   \n",
       "3   Facebook  51c6187d-ff6e-44dd-a179-a6e72156f8b5     Video   \n",
       "4  Instagram  ef618191-8f9b-48b4-a483-0fb69c82f002     Video   \n",
       "\n",
       "                                        Post_Content       Post_Timestamp  \\\n",
       "0    Wonder value over drop position position admit.  2021-03-08 19:13:37   \n",
       "1                               Pay young poor talk.  2021-03-08 19:18:21   \n",
       "2                        Hope decide education much.  2021-03-08 20:43:27   \n",
       "3                       Shake question remember now.  2021-03-08 21:15:48   \n",
       "4  Blood market spend design claim form claim fin...  2021-03-08 22:16:45   \n",
       "\n",
       "   Likes  Comments  Shares  Impressions  Reach  Engagement Rate        Date  \\\n",
       "0    578       360      90         6060   3725            27.60  2021-03-08   \n",
       "1    596       490      52         2499   4229            26.91  2021-03-08   \n",
       "2    878       359      87         4272   3368            39.31  2021-03-08   \n",
       "3    766       371      46         5247   2477            47.76  2021-03-08   \n",
       "4    332       189      83         7922   3560            16.97  2021-03-08   \n",
       "\n",
       "  Time of Day  \n",
       "0     Evening  \n",
       "1     Evening  \n",
       "2     Evening  \n",
       "3       Night  \n",
       "4       Night  "
      ]
     },
     "execution_count": 12,
     "metadata": {},
     "output_type": "execute_result"
    }
   ],
   "source": [
    "df.head(5)"
   ]
  },
  {
   "cell_type": "code",
   "execution_count": 13,
   "metadata": {},
   "outputs": [],
   "source": [
    "df=df.sample(10000)"
   ]
  },
  {
   "cell_type": "code",
   "execution_count": 14,
   "metadata": {},
   "outputs": [],
   "source": [
    "df=pd.DataFrame(df)"
   ]
  },
  {
   "cell_type": "code",
   "execution_count": 15,
   "metadata": {},
   "outputs": [],
   "source": [
    "df.to_csv(\"output.csv\")"
   ]
  }
 ],
 "metadata": {
  "kernelspec": {
   "display_name": "myenv",
   "language": "python",
   "name": "python3"
  },
  "language_info": {
   "codemirror_mode": {
    "name": "ipython",
    "version": 3
   },
   "file_extension": ".py",
   "mimetype": "text/x-python",
   "name": "python",
   "nbconvert_exporter": "python",
   "pygments_lexer": "ipython3",
   "version": "3.13.1"
  }
 },
 "nbformat": 4,
 "nbformat_minor": 2
}
